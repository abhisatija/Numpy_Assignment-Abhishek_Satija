{
 "cells": [
  {
   "cell_type": "code",
   "execution_count": 1,
   "id": "a4e01940-4093-48de-aaa7-0e8c650d51aa",
   "metadata": {},
   "outputs": [],
   "source": [
    "import numpy as np"
   ]
  },
  {
   "cell_type": "markdown",
   "id": "42b02819-0c71-4ada-8524-cb0035645631",
   "metadata": {},
   "source": [
    "### 1. How to Creating a 3x3 Identity Matrix with Float Data Type?"
   ]
  },
  {
   "cell_type": "code",
   "execution_count": 2,
   "id": "febc7caf-3009-4ee7-952b-726fb08248c5",
   "metadata": {},
   "outputs": [
    {
     "name": "stdout",
     "output_type": "stream",
     "text": [
      "[[1. 0. 0.]\n",
      " [0. 1. 0.]\n",
      " [0. 0. 1.]]\n"
     ]
    }
   ],
   "source": [
    "a = np.identity(3, dtype=float)\n",
    "print(a)"
   ]
  },
  {
   "cell_type": "markdown",
   "id": "e4aeba02-f202-40dd-861b-f79ad381f8f6",
   "metadata": {},
   "source": [
    "### 2. Create a 1D Array with Random Values between 0 and 1."
   ]
  },
  {
   "cell_type": "code",
   "execution_count": 3,
   "id": "a36f1796-c338-4b94-8f3d-b8c94ecc12ed",
   "metadata": {},
   "outputs": [
    {
     "data": {
      "text/plain": [
       "array([0.25059826, 0.52726427, 0.19549778, 0.54707861, 0.55307804])"
      ]
     },
     "execution_count": 3,
     "metadata": {},
     "output_type": "execute_result"
    }
   ],
   "source": [
    "array1 = np.random.rand(5)\n",
    "array1"
   ]
  },
  {
   "cell_type": "markdown",
   "id": "9b8fc104-00ed-4205-a862-2d87196ccc6b",
   "metadata": {},
   "source": [
    "### 3. Create a 2D Array with Random Integer Values."
   ]
  },
  {
   "cell_type": "code",
   "execution_count": 4,
   "id": "ea47dc1c-5cb7-4ea6-85d3-b63735f4edb4",
   "metadata": {},
   "outputs": [
    {
     "data": {
      "text/plain": [
       "array([[4, 3, 0, 1],\n",
       "       [4, 2, 4, 2]])"
      ]
     },
     "execution_count": 4,
     "metadata": {},
     "output_type": "execute_result"
    }
   ],
   "source": [
    "array2 = np.random.randint(5, size=(2, 4))\n",
    "array2"
   ]
  },
  {
   "cell_type": "raw",
   "id": "d728805e-7b3d-4b56-a62a-8fc10c929ba3",
   "metadata": {},
   "source": [
    "### 4. Creating an Array Using a Custom Function."
   ]
  },
  {
   "cell_type": "code",
   "execution_count": 5,
   "id": "707fe769-5a69-4a53-a983-7759767959af",
   "metadata": {},
   "outputs": [
    {
     "data": {
      "text/plain": [
       "array([[4, 2, 6, 2],\n",
       "       [2, 3, 3, 5]])"
      ]
     },
     "execution_count": 5,
     "metadata": {},
     "output_type": "execute_result"
    }
   ],
   "source": [
    "def cf(i, j):\n",
    "    return np.random.randint(i, j, (2,4))\n",
    "\n",
    "cf(1,7)"
   ]
  },
  {
   "cell_type": "markdown",
   "id": "b6430563-d818-4bc2-85df-cf546dc10582",
   "metadata": {},
   "source": [
    "### 5. Reshaping a 1D Array into a 2D Array"
   ]
  },
  {
   "cell_type": "code",
   "execution_count": 6,
   "id": "6af59c10-1167-4b44-8b8b-db4667eaca01",
   "metadata": {},
   "outputs": [
    {
     "data": {
      "text/plain": [
       "array([[1, 2],\n",
       "       [3, 4]])"
      ]
     },
     "execution_count": 6,
     "metadata": {},
     "output_type": "execute_result"
    }
   ],
   "source": [
    "a = np.array([1,2,3,4])\n",
    "b=a.reshape(2,2)\n",
    "b"
   ]
  },
  {
   "cell_type": "markdown",
   "id": "2199afcc-3e0b-4381-8bcb-a9d254df7ba6",
   "metadata": {},
   "source": [
    "### 6.How to Creating a 3x3 Array of Ones?"
   ]
  },
  {
   "cell_type": "code",
   "execution_count": 7,
   "id": "3f3d4119-c5d6-4a4e-9522-2f0dc49779f2",
   "metadata": {},
   "outputs": [
    {
     "data": {
      "text/plain": [
       "array([[1., 1., 1.],\n",
       "       [1., 1., 1.],\n",
       "       [1., 1., 1.]])"
      ]
     },
     "execution_count": 7,
     "metadata": {},
     "output_type": "execute_result"
    }
   ],
   "source": [
    "aones = np.ones((3,3))\n",
    "aones"
   ]
  },
  {
   "cell_type": "markdown",
   "id": "4bedecb7-b0ed-47a2-9efe-752835e5f067",
   "metadata": {},
   "source": [
    "### 7. How to get the common items between two pythonsNumPy? \n",
    "Input:\n",
    "a = np. array ([1,2,3,2,3,4,3,4,5,6])\n",
    "b = np. array ([7,2,10,2,7,4,9,4,9,8])\n",
    "Expected Output:\n",
    "array ([2, 4])"
   ]
  },
  {
   "cell_type": "code",
   "execution_count": 8,
   "id": "ac6002db-7922-4bae-9cba-1bc1f15a3fc5",
   "metadata": {},
   "outputs": [
    {
     "data": {
      "text/plain": [
       "array([2, 4])"
      ]
     },
     "execution_count": 8,
     "metadata": {},
     "output_type": "execute_result"
    }
   ],
   "source": [
    "a = np. array ([1,2,3,2,3,4,3,4,5,6])\n",
    "b = np. array ([7,2,10,2,7,4,9,4,9,8])\n",
    "c = np.intersect1d(a,b)\n",
    "c"
   ]
  },
  {
   "cell_type": "markdown",
   "id": "99e0f2f5-9a90-4d96-be1b-166b18d7b1ac",
   "metadata": {},
   "source": [
    "### 8. From array a remove all items present in array b \n",
    "Input:\n",
    "a = np. array ([1,2,3,4,5])\n",
    "b = np. array ([5,6,7,8,9])\n",
    "Expected Output:\n",
    "array ([1,2,3,4]"
   ]
  },
  {
   "cell_type": "code",
   "execution_count": 9,
   "id": "5eb74142-84e6-4c26-bd35-7d12694ef19e",
   "metadata": {},
   "outputs": [
    {
     "data": {
      "text/plain": [
       "array([1, 2, 3, 4])"
      ]
     },
     "execution_count": 9,
     "metadata": {},
     "output_type": "execute_result"
    }
   ],
   "source": [
    "a = np. array ([1,2,3,4,5])\n",
    "b = np. array ([5,6,7,8,9])\n",
    "c = np.setdiff1d(a,b)\n",
    "c"
   ]
  },
  {
   "cell_type": "markdown",
   "id": "4f38cec0-54ec-4c6a-b28b-fa4647cc4db7",
   "metadata": {},
   "source": [
    "### 9. Limit the number of items printed in python NumPy array a to a maximum of 6 elements.\n",
    "a = np. arrange (15)\n",
    "Expected Output:\n",
    "array ([ 0, 1, 2, ..., 12, 13, 14]"
   ]
  },
  {
   "cell_type": "code",
   "execution_count": 10,
   "id": "34a34339-18a1-4eba-8c40-295d53b10421",
   "metadata": {},
   "outputs": [
    {
     "data": {
      "text/plain": [
       "array([ 0,  1,  2,  3,  4,  5,  6,  7,  8,  9, 10, 11, 12, 13, 14])"
      ]
     },
     "execution_count": 10,
     "metadata": {},
     "output_type": "execute_result"
    }
   ],
   "source": [
    "a = np.arange(15)\n",
    "np.set_printoptions()\n",
    "a"
   ]
  },
  {
   "cell_type": "markdown",
   "id": "f94f8f71-1604-4f65-8581-9e7899f79c81",
   "metadata": {},
   "source": [
    "### 10. Drop all nan values from a 1D NumPy array\n",
    "Input:\n",
    "np. array ([1,2,3, np.nan,5,6,7, np.nan])\n",
    "Desired Output:\n",
    "array ([ 1., 2., 3., 5., 6., 7.])"
   ]
  },
  {
   "cell_type": "code",
   "execution_count": 11,
   "id": "c5b6cc9e-8445-42aa-b271-1eeaeb433bb1",
   "metadata": {},
   "outputs": [
    {
     "data": {
      "text/plain": [
       "array([1., 2., 3., 5., 6., 7.])"
      ]
     },
     "execution_count": 11,
     "metadata": {},
     "output_type": "execute_result"
    }
   ],
   "source": [
    "a = np. array ([1,2,3, np.nan,5,6,7, np.nan])\n",
    "b = a[~np.isnan(a)]\n",
    "b"
   ]
  },
  {
   "cell_type": "markdown",
   "id": "e4650307-63ca-4ee3-a5f9-f7e7eba4c821",
   "metadata": {},
   "source": [
    "### 11. Question: Create a 1D NumPy array of the first 20 natural numbers and a 2D NumPy array of shape (4, 5) with values ranging from 1 to 20."
   ]
  },
  {
   "cell_type": "code",
   "execution_count": 12,
   "id": "7e5946b0-7032-4e20-8ede-25776a2ef888",
   "metadata": {},
   "outputs": [
    {
     "name": "stdout",
     "output_type": "stream",
     "text": [
      "[ 1  2  3  4  5  6  7  8  9 10 11 12 13 14 15 16 17 18 19 20]\n",
      "[[ 1  2  3  4  5]\n",
      " [ 6  7  8  9 10]\n",
      " [11 12 13 14 15]\n",
      " [16 17 18 19 20]]\n"
     ]
    }
   ],
   "source": [
    "a = np.arange(1,21)\n",
    "print(a)\n",
    "\n",
    "b = a.reshape(4,5)\n",
    "print(b)"
   ]
  },
  {
   "cell_type": "markdown",
   "id": "46cfa8fb-b4ba-4b80-9f13-faf199c7da0b",
   "metadata": {},
   "source": [
    "### 12. Question: Given a 3D NumPy array of shape (2, 3, 4), find its shape, size, number of dimensions, and data type. Change its data type to float64 and verify the change."
   ]
  },
  {
   "cell_type": "code",
   "execution_count": 13,
   "id": "3d6211f2-ee0d-41d5-991e-0fdeaf4f5b98",
   "metadata": {},
   "outputs": [
    {
     "name": "stdout",
     "output_type": "stream",
     "text": [
      "[[[ 0  1  2  3]\n",
      "  [ 4  5  6  7]\n",
      "  [ 8  9 10 11]]\n",
      "\n",
      " [[12 13 14 15]\n",
      "  [16 17 18 19]\n",
      "  [20 21 22 23]]]\n",
      "Shape: (2, 3, 4)\n",
      "Size: 24\n",
      "Dimension: 3\n",
      "Data type: int32\n",
      "\n",
      "[[[ 0.  1.  2.  3.]\n",
      "  [ 4.  5.  6.  7.]\n",
      "  [ 8.  9. 10. 11.]]\n",
      "\n",
      " [[12. 13. 14. 15.]\n",
      "  [16. 17. 18. 19.]\n",
      "  [20. 21. 22. 23.]]]\n",
      "Shape: (2, 3, 4)\n",
      "Size: 24\n",
      "Dimension: 3\n",
      "Data type: float64\n"
     ]
    }
   ],
   "source": [
    "arr1 = np.arange(24).reshape(2,3,4)\n",
    "print(arr1)\n",
    "print(\"Shape:\", arr1.shape)\n",
    "print(\"Size:\", arr1.size)\n",
    "print(\"Dimension:\", arr1.ndim)\n",
    "print(\"Data type:\", arr1.dtype)\n",
    "print()\n",
    "float_3D = arr1.astype(float)\n",
    "print(float_3D)\n",
    "print(\"Shape:\", float_3D.shape)\n",
    "print(\"Size:\", float_3D.size)\n",
    "print(\"Dimension:\", float_3D.ndim)\n",
    "print(\"Data type:\", float_3D.dtype)"
   ]
  },
  {
   "cell_type": "markdown",
   "id": "7e4e01a7-750b-449d-8b0f-99c231e3f82c",
   "metadata": {},
   "source": [
    "### 13. Question: Reshape a 1D array of 12 elements into a 3x4 2D array and then flatten it back into a 1D array using ravel (). Verify that the flattened array matches the original."
   ]
  },
  {
   "cell_type": "code",
   "execution_count": 14,
   "id": "c0c1e509-d730-4e6e-802f-dba11b482193",
   "metadata": {},
   "outputs": [
    {
     "name": "stdout",
     "output_type": "stream",
     "text": [
      "[[ 0  1  2  3]\n",
      " [ 4  5  6  7]\n",
      " [ 8  9 10 11]]\n",
      "[ 0  1  2 ...  9 10 11]\n"
     ]
    }
   ],
   "source": [
    "c = np.arange(12).reshape(3,4)\n",
    "print(c)\n",
    "np.set_printoptions(threshold=0)\n",
    "d = np.ravel(c)\n",
    "print(d)"
   ]
  },
  {
   "cell_type": "markdown",
   "id": "f6e678a7-fee9-4667-b292-81d24b481f10",
   "metadata": {},
   "source": [
    "### 14. Question: Given two arrays, a = np. array ([1, 2, 3]) and b = np. array ([4, 5, 6]), perform element-wise addition, subtraction, multiplication, and division. Explain the behavior when dividing by zero."
   ]
  },
  {
   "cell_type": "code",
   "execution_count": 15,
   "id": "74046740-16f9-448e-be23-294d2d60f38f",
   "metadata": {},
   "outputs": [
    {
     "name": "stdout",
     "output_type": "stream",
     "text": [
      "Addition: [5 7 9]\n",
      "Subtraction: [-3 -3 -3]\n",
      "Multiplication: [ 4 10 18]\n",
      "Division: [0.25 0.4  0.5 ]\n",
      "Divide by 0: [inf inf inf]\n"
     ]
    },
    {
     "name": "stderr",
     "output_type": "stream",
     "text": [
      "C:\\Users\\Dell\\AppData\\Local\\Temp\\ipykernel_8452\\1580672386.py:8: RuntimeWarning: divide by zero encountered in divide\n",
      "  print(\"Divide by 0:\", a/0)\n"
     ]
    }
   ],
   "source": [
    "a = np.array([1,2,3])\n",
    "b = np.array([4,5,6])\n",
    "\n",
    "print(\"Addition:\", a+b)\n",
    "print(\"Subtraction:\", a-b)\n",
    "print(\"Multiplication:\", a*b)\n",
    "print(\"Division:\", a/b)\n",
    "print(\"Divide by 0:\", a/0)"
   ]
  },
  {
   "cell_type": "markdown",
   "id": "932d626a-1194-4b03-80c1-6f65c1575542",
   "metadata": {},
   "source": [
    "### 15. Question: Create a 2D array of shape (3, 1) and a 1D array of length 3. Perform element-wise addition using broadcasting. Explain how broadcasting rules apply in this scenario.\n",
    "\n",
    "#### In summary, broadcasting simplifies the addition process between arrays of different shapes by expanding the smaller array's dimensions, allowing for seamless element-wise operations."
   ]
  },
  {
   "cell_type": "code",
   "execution_count": 16,
   "id": "1cf220e7-3641-405f-9439-24b818b8ad57",
   "metadata": {},
   "outputs": [
    {
     "name": "stdout",
     "output_type": "stream",
     "text": [
      "2d_array\n",
      " [[1]\n",
      " [2]\n",
      " [3]]\n",
      "1d_array\n",
      " [4 5 6]\n",
      "Addition\n",
      " [[5 6 7]\n",
      " [6 7 8]\n",
      " [7 8 9]]\n"
     ]
    }
   ],
   "source": [
    "array_2d = np.array([[1], [2], [3]])\n",
    "array_1d = np.array([4,5,6])\n",
    "addition = array_2d + array_1d\n",
    "\n",
    "print(\"2d_array\\n\", array_2d)\n",
    "print(\"1d_array\\n\", array_1d)\n",
    "print(\"Addition\\n\", addition)"
   ]
  },
  {
   "cell_type": "markdown",
   "id": "52ee6044-36df-430b-a3b4-e78c2215dcab",
   "metadata": {},
   "source": [
    "### 16. Question: Generate a random 2D array of integers between 0 and 10. Use conditional operators to create a Boolean mask identifying elements greater than 5. Replace all elements greater than 5 with the value 5."
   ]
  },
  {
   "cell_type": "code",
   "execution_count": 17,
   "id": "971af8b7-9738-4141-92cc-bf9c8fe6db7b",
   "metadata": {},
   "outputs": [
    {
     "name": "stdout",
     "output_type": "stream",
     "text": [
      "\n",
      "Original array\n",
      " [[ 6  9  7  1]\n",
      " [ 3  9  4  4]\n",
      " [10  3  0  1]\n",
      " [ 5  8  4  6]]\n",
      "\n",
      "Boolean masked array\n",
      " [[ True  True  True False]\n",
      " [False  True False False]\n",
      " [ True False False False]\n",
      " [False  True False  True]]\n",
      "\n",
      "Modified array\n",
      " [[5 5 5 1]\n",
      " [3 5 4 4]\n",
      " [5 3 0 1]\n",
      " [5 5 4 5]]\n"
     ]
    }
   ],
   "source": [
    "array = np.random.randint(0, 11, size=(4,4))\n",
    "print(\"\\nOriginal array\\n\", array)\n",
    "\n",
    "mask = array > 5\n",
    "print(\"\\nBoolean masked array\\n\", mask)\n",
    "\n",
    "array[mask] = 5\n",
    "print(\"\\nModified array\\n\", array)"
   ]
  },
  {
   "cell_type": "markdown",
   "id": "ad1140f2-adbe-4183-abde-f41e7973f9d4",
   "metadata": {},
   "source": [
    "### 17. Question: Given a 4x4 array of random integers, use indexing and slicing to extract:\n",
    "* The entire second row\n",
    "* The last column\n",
    "* The subarray consisting of the first two rows and first two columns"
   ]
  },
  {
   "cell_type": "code",
   "execution_count": 18,
   "id": "44bc49f0-d9c9-465e-99ff-f09b0b08296d",
   "metadata": {},
   "outputs": [
    {
     "name": "stdout",
     "output_type": "stream",
     "text": [
      "\n",
      "Original array\n",
      " [[ 2  8  5  5]\n",
      " [ 1 10  0 10]\n",
      " [ 1  5  3  0]\n",
      " [ 2  7  6  2]]\n",
      "\n",
      "Second row\n",
      " [ 1 10  0 10]\n",
      "\n",
      "Last Column\n",
      " [ 5 10  0  2]\n",
      "\n",
      "Subarray with first two rows and column\n",
      " [[ 2  8]\n",
      " [ 1 10]]\n"
     ]
    }
   ],
   "source": [
    "array = np.random.randint(0, 11, size=(4,4))\n",
    "print(\"\\nOriginal array\\n\", array)\n",
    "\n",
    "second_row = array[1, :]\n",
    "print(\"\\nSecond row\\n\", second_row)\n",
    "\n",
    "last_column = array[:, -1]\n",
    "print(\"\\nLast Column\\n\", last_column)\n",
    "\n",
    "subarray = array[:2, :2]\n",
    "print(\"\\nSubarray with first two rows and column\\n\", subarray)"
   ]
  },
  {
   "cell_type": "markdown",
   "id": "c806d01b-85d6-4127-96ac-a9ee68a80667",
   "metadata": {},
   "source": [
    "### 18. Question: Describe a practical example where NumPy can be used in EDA, AI, ML, and DL, and implement a NumPy solution for a simple task in each area."
   ]
  },
  {
   "cell_type": "code",
   "execution_count": 19,
   "id": "170a5c3b-3892-4517-884c-be8c9b947981",
   "metadata": {},
   "outputs": [
    {
     "name": "stdout",
     "output_type": "stream",
     "text": [
      "\n",
      "Mean Height: 173.06\n",
      "\n",
      "Standard Deviation of Height: 13.680511686336882\n",
      "\n",
      "Grayscale Image Shape: (100, 100)\n",
      "\n",
      "Original Features:\n",
      " [[94.89305169 93.20374559  8.30019427]\n",
      " [49.17713917 53.98179917 34.87506231]\n",
      " [29.29715427 55.75228973 32.87364672]\n",
      " ...\n",
      " [93.06259508 34.21221064 45.21428577]\n",
      " [68.63447232 22.13892681 13.0502215 ]\n",
      " [14.72604637 63.37245604  1.98697753]]\n",
      "\n",
      "Normalized Features:\n",
      " [[1.         1.         0.07612835]\n",
      " [0.51174298 0.44808209 0.34714397]\n",
      " [0.29941992 0.47299583 0.32673315]\n",
      " ...\n",
      " [0.98045028 0.16989115 0.45258536]\n",
      " [0.71955201 0.         0.12457004]\n",
      " [0.14379696 0.58022422 0.01174495]]\n",
      "\n",
      "Reshaped Data Shape: (1, 64, 64, 1)\n"
     ]
    }
   ],
   "source": [
    "# For EDA\n",
    "\n",
    "# Simulated dataset (e.g., heights of individuals in cm)\n",
    "data = np.random.randint(150, 200, size=100)  # 100 random heights\n",
    "mean = np.mean(data)\n",
    "std_dev = np.std(data)\n",
    "\n",
    "print(\"\\nMean Height:\", mean)\n",
    "print(\"\\nStandard Deviation of Height:\", std_dev)\n",
    "\n",
    "# For AL\n",
    "\n",
    "# Simulated RGB image (3D array: height x width x channels)\n",
    "image = np.random.randint(0, 256, (100, 100, 3))  # Random RGB image\n",
    "\n",
    "# Convert to grayscale using the luminosity method\n",
    "gray_image = np.dot(image[...,:3], [0.2989, 0.5870, 0.1140])\n",
    "print(\"\\nGrayscale Image Shape:\", gray_image.shape)\n",
    "\n",
    "# For ML\n",
    "\n",
    "# Simulated feature data (2D array: samples x features)\n",
    "features = np.random.rand(10, 3) * 100  # 10 samples, 3 features\n",
    "print(\"\\nOriginal Features:\\n\", features)\n",
    "\n",
    "# Min-max normalization\n",
    "min_values = np.min(features, axis=0)\n",
    "max_values = np.max(features, axis=0)\n",
    "normalized_features = (features - min_values) / (max_values - min_values)\n",
    "\n",
    "print(\"\\nNormalized Features:\\n\", normalized_features)\n",
    "\n",
    "# For DL\n",
    "\n",
    "# Simulated input data (e.g., images, flattened)\n",
    "input_data = np.random.rand(64, 64)  # Single 64x64 image\n",
    "\n",
    "# Reshape to add a channel dimension (for example, for a CNN)\n",
    "reshaped_data = input_data.reshape(1, 64, 64, 1)  # (batch_size, height, width, channels)\n",
    "\n",
    "print(\"\\nReshaped Data Shape:\", reshaped_data.shape)"
   ]
  },
  {
   "cell_type": "markdown",
   "id": "a7fc8f6e-3bbe-4862-9fe7-300b9a78a030",
   "metadata": {},
   "source": [
    "### 19. Question: Create a random 4x4 matrix and use NumPy to compute its eigenvalues and eigenvectors. Verify the eigenvalues by reconstructing the matrix."
   ]
  },
  {
   "cell_type": "code",
   "execution_count": 20,
   "id": "218c67fa-6205-42f7-b62a-a6a9d2553329",
   "metadata": {},
   "outputs": [
    {
     "name": "stdout",
     "output_type": "stream",
     "text": [
      "Random 4x4 Matrix:\n",
      " [[0.59887334 0.08375421 0.27750001 0.97835596]\n",
      " [0.93247877 0.04217462 0.39276506 0.42407926]\n",
      " [0.1248982  0.99620886 0.34988518 0.30379039]\n",
      " [0.03815869 0.24716115 0.72728404 0.87872132]]\n",
      "\n",
      "Eigenvalues:\n",
      " [ 1.84994084+0.j          0.24866188+0.62642215j  0.24866188-0.62642215j\n",
      " -0.47761015+0.j        ]\n",
      "\n",
      "Eigenvectors:\n",
      " [[-0.52995031+0.j         -0.40816497+0.32850977j -0.40816497-0.32850977j\n",
      "  -0.12945859+0.j        ]\n",
      " [-0.4937897 +0.j          0.06404736+0.43457061j  0.06404736-0.43457061j\n",
      "   0.55386166+0.j        ]\n",
      " [-0.47353742+0.j          0.55479427+0.j          0.55479427-0.j\n",
      "  -0.7614189 +0.j        ]\n",
      " [-0.50108553+0.j         -0.22707624-0.41613544j -0.22707624+0.41613544j\n",
      "   0.31099677+0.j        ]]\n",
      "\n",
      "Reconstructed Matrix:\n",
      " [[0.59887334-9.98129139e-17j 0.08375421-2.86943717e-17j\n",
      "  0.27750001+5.27584999e-17j 0.97835596-8.73352473e-17j]\n",
      " [0.93247877-3.41738032e-17j 0.04217462-1.48918076e-17j\n",
      "  0.39276506+1.69280683e-17j 0.42407926-6.49093063e-17j]\n",
      " [0.1248982 -5.94437406e-17j 0.99620886+1.46533419e-17j\n",
      "  0.34988518+3.80279477e-17j 0.30379039-5.82250358e-17j]\n",
      " [0.03815869-9.10065957e-17j 0.24716115+1.10743371e-17j\n",
      "  0.72728404+6.47435022e-17j 0.87872132-1.42202928e-16j]]\n",
      "\n",
      "Are the original and reconstructed matrices approximately equal? True\n"
     ]
    }
   ],
   "source": [
    "# Step 1: Create a random 4x4 matrix\n",
    "matrix = np.random.rand(4, 4)\n",
    "print(\"Random 4x4 Matrix:\\n\", matrix)\n",
    "\n",
    "# Step 2: Compute the eigenvalues and eigenvectors\n",
    "eigenvalues, eigenvectors = np.linalg.eig(matrix)\n",
    "\n",
    "print(\"\\nEigenvalues:\\n\", eigenvalues)\n",
    "print(\"\\nEigenvectors:\\n\", eigenvectors)\n",
    "\n",
    "# Step 3: Verify the eigenvalues by reconstructing the matrix\n",
    "# Reconstruct the matrix using the formula A = V * D * V^(-1)\n",
    "# where V is the matrix of eigenvectors and D is the diagonal matrix of eigenvalues\n",
    "D = np.diag(eigenvalues)  # Diagonal matrix of eigenvalues\n",
    "reconstructed_matrix = eigenvectors @ D @ np.linalg.inv(eigenvectors)\n",
    "\n",
    "print(\"\\nReconstructed Matrix:\\n\", reconstructed_matrix)\n",
    "\n",
    "# Check if the original matrix and reconstructed matrix are approximately equal\n",
    "print(\"\\nAre the original and reconstructed matrices approximately equal?\", np.allclose(matrix, reconstructed_matrix))"
   ]
  },
  {
   "cell_type": "markdown",
   "id": "fafbfeab-6a7f-479d-b869-45476f8a97be",
   "metadata": {},
   "source": [
    "### 20. Question: Create a 1D array of 27 elements and reshape it into a 3x3x3 3D array. Flatten it back into a 1D array and compare the flattened array with the original."
   ]
  },
  {
   "cell_type": "code",
   "execution_count": 21,
   "id": "81c9cfb6-3f37-4e59-9067-043c72ac65f3",
   "metadata": {},
   "outputs": [
    {
     "name": "stdout",
     "output_type": "stream",
     "text": [
      "Original array:\n",
      " [ 0  1  2 ... 24 25 26]\n",
      "\n",
      "Reshaped array:\n",
      " [[[ 0  1  2]\n",
      "  [ 3  4  5]\n",
      "  [ 6  7  8]]\n",
      "\n",
      " [[ 9 10 11]\n",
      "  [12 13 14]\n",
      "  [15 16 17]]\n",
      "\n",
      " [[18 19 20]\n",
      "  [21 22 23]\n",
      "  [24 25 26]]]\n",
      "\n",
      "Flattened array:\n",
      " [ 0  1  2 ... 24 25 26]\n",
      "\n",
      "Comaprison of both array: True\n"
     ]
    }
   ],
   "source": [
    "array = np.arange(27)\n",
    "print(\"Original array:\\n\", array)\n",
    "\n",
    "reshaped_array = array.reshape((3,3,3))\n",
    "print(\"\\nReshaped array:\\n\", reshaped_array)\n",
    "\n",
    "flattened_array = reshaped_array.flatten()  # we can also use ravel() function instead of flatten()\n",
    "print(\"\\nFlattened array:\\n\", flattened_array)\n",
    "\n",
    "comparison = np.array_equal(array, flattened_array)\n",
    "print(\"\\nComaprison of both array:\", comparison)"
   ]
  },
  {
   "cell_type": "markdown",
   "id": "1af1116b-2adb-40b1-93f5-dd8dd171358a",
   "metadata": {},
   "source": [
    "### 21. Question: Perform matrix multiplication of two 2D arrays using np.dot() and @. Compare the results and performance of both methods using a large dataset."
   ]
  },
  {
   "cell_type": "code",
   "execution_count": 26,
   "id": "4bd1d96c-3a5b-4248-9c1a-aee62cb6878d",
   "metadata": {},
   "outputs": [
    {
     "name": "stdout",
     "output_type": "stream",
     "text": [
      "Matrix multiplication using np.dot() took 0.1191 seconds.\n",
      "Matrix multiplication using @ took 0.0650 seconds.\n",
      "Ressult Match: True\n"
     ]
    }
   ],
   "source": [
    "import time\n",
    "size = 1000\n",
    "M = np.random.rand(size, size)   \n",
    "N = np.random.rand(size, size)\n",
    "\n",
    "# using dot() functiom\n",
    "start_time_dot = time.time()\n",
    "result_dot = np.dot(M, N)\n",
    "end_time_dot = time.time()\n",
    "time_dot = end_time_dot - start_time_dot\n",
    "\n",
    "# using at@ function\n",
    "start_time_at = time.time()\n",
    "result_at = M @ N\n",
    "end_time_at = time.time()\n",
    "time_at = end_time_at - start_time_at\n",
    "\n",
    "print(f\"Matrix multiplication using np.dot() took {time_dot:.4f} seconds.\")\n",
    "print(f\"Matrix multiplication using @ took {time_at:.4f} seconds.\")\n",
    "\n",
    "# Compare result\n",
    "result_match = np.allclose(result_dot, result_at)\n",
    "print(f\"Ressult Match: {result_match}\")"
   ]
  },
  {
   "cell_type": "markdown",
   "id": "12b41c23-f7c1-4ca4-b995-4b78e88cb6e0",
   "metadata": {},
   "source": [
    "## 22. Question: Create a 3D array of shape (2, 1, 4) and a 2D array of shape (4, 1). Perform an element-wise operation using broadcasting and explain the result. Use np. new axis to achieve the same result without broadcasting."
   ]
  },
  {
   "cell_type": "code",
   "execution_count": 37,
   "id": "b9d7835b-1cb7-464c-b5db-93ae599bae01",
   "metadata": {},
   "outputs": [
    {
     "name": "stdout",
     "output_type": "stream",
     "text": [
      "Result with Broadcasting:\n",
      " [[[11 22 33 44]]\n",
      "\n",
      " [[15 26 37 48]]]\n",
      "Result with newaxis:\n",
      " [[[[11 12 13 14]\n",
      "   [21 22 23 24]\n",
      "   [31 32 33 34]\n",
      "   [41 42 43 44]]]\n",
      "\n",
      "\n",
      " [[[15 16 17 18]\n",
      "   [25 26 27 28]\n",
      "   [35 36 37 38]\n",
      "   [45 46 47 48]]]]\n"
     ]
    }
   ],
   "source": [
    "array_3d = np.array([[[1,2,3,4]], [[5,6,7,8]]])\n",
    "array_2d = np.array([[10],[20],[30],[40]])\n",
    "\n",
    "# Result using Broadcasting\n",
    "result_broadcasting = array_3d + array_2d.T\n",
    "print(\"Result with Broadcasting:\\n\", result_broadcasting)\n",
    "\n",
    "# Result using newaxis function\n",
    "array_2d_newaxis = array_2d[np.newaxis, :, :]\n",
    "array_3d_newaxis = array_3d[:, :, np.newaxis]\n",
    "\n",
    "result_nnewaxis = array_2d_newaxis + array_3d_newaxis\n",
    "print(\"Result with newaxis:\\n\", result_nnewaxis)"
   ]
  },
  {
   "cell_type": "markdown",
   "id": "4df42e23-a07c-4cdc-b004-482e04dbee5f",
   "metadata": {},
   "source": [
    "## 23. Question: Generate a 2D array of random floats between 0 and 1. Use conditional operators to create a Boolean mask for values less than 0.5. Replace these values with their squares and leave the rest unchanged."
   ]
  },
  {
   "cell_type": "code",
   "execution_count": 43,
   "id": "c73e8645-e48f-4dc5-a7cc-d77ddce849f3",
   "metadata": {},
   "outputs": [
    {
     "name": "stdout",
     "output_type": "stream",
     "text": [
      "Original array:\n",
      " [[0.60622017 0.3809823  0.16606368 0.4997252  0.19004229]\n",
      " [0.35963991 0.5044158  0.8911074  0.96058811 0.90783452]\n",
      " [0.19324993 0.54836788 0.97600299 0.89358356 0.61995452]\n",
      " [0.14460818 0.41186987 0.73559798 0.49705872 0.69470997]\n",
      " [0.66659565 0.84912342 0.51541334 0.2228092  0.48349007]]\n",
      "\n",
      "Modified array:\n",
      " [[0.3675029  0.14514751 0.02757714 0.24972527 0.03611607]\n",
      " [0.12934086 0.2544353  0.7940724  0.92272952 0.82416351]\n",
      " [0.03734554 0.30070733 0.95258184 0.79849158 0.38434361]\n",
      " [0.02091153 0.16963679 0.54110439 0.24706737 0.48262194]\n",
      " [0.44434976 0.72101058 0.26565091 0.04964394 0.23376265]]\n"
     ]
    }
   ],
   "source": [
    "A = np.random.rand(5,5)\n",
    "print(\"Original array:\\n\", A)\n",
    "\n",
    "mask = A < 5\n",
    "\n",
    "A[mask] = A[mask] ** 2\n",
    "print(\"\\nModified array:\\n\", A)"
   ]
  },
  {
   "cell_type": "markdown",
   "id": "4a734314-1751-4ed0-83ab-2b909cd99645",
   "metadata": {},
   "source": [
    "## 24. Question: Given a 5x5 array of sequential integers, use slicing to:\n",
    "* Extract the diagonal elements\n",
    "* Replace the elements of the middle row with zeros\n",
    "* Flip the array vertically and horizontally"
   ]
  },
  {
   "cell_type": "code",
   "execution_count": 49,
   "id": "4895f29f-32f3-400d-b18e-a8757fdf9de8",
   "metadata": {},
   "outputs": [
    {
     "name": "stdout",
     "output_type": "stream",
     "text": [
      "Original array:\n",
      " [[ 1  2  3  4  5]\n",
      " [ 6  7  8  9 10]\n",
      " [11 12 13 14 15]\n",
      " [16 17 18 19 20]\n",
      " [21 22 23 24 25]]\n",
      "\n",
      "Diagonal array:\n",
      " [[ 1  2  3  4  5]\n",
      " [ 6  7  8  9 10]\n",
      " [11 12 13 14 15]\n",
      " [16 17 18 19 20]\n",
      " [21 22 23 24 25]]\n",
      "\n",
      "Array after replacing middle row with 0:\n",
      " [[ 1  2  3  4  5]\n",
      " [ 6  7  8  9 10]\n",
      " [ 0  0  0  0  0]\n",
      " [16 17 18 19 20]\n",
      " [21 22 23 24 25]]\n",
      "\n",
      "Flippped array:\n",
      " [[25 24 23 22 21]\n",
      " [20 19 18 17 16]\n",
      " [ 0  0  0  0  0]\n",
      " [10  9  8  7  6]\n",
      " [ 5  4  3  2  1]]\n"
     ]
    }
   ],
   "source": [
    "array = np.arange(1,26).reshape(5,5)\n",
    "print(\"Original array:\\n\", array)\n",
    "\n",
    "diagonal = np.diagonal(array)\n",
    "print(\"\\nDiagonal array:\\n\", array)\n",
    "\n",
    "array[2, :] = 0\n",
    "print(\"\\nArray after replacing middle row with 0:\\n\", array)\n",
    "\n",
    "flip = np.flipud(np.fliplr(array))\n",
    "print(\"\\nFlippped array:\\n\", flip)"
   ]
  },
  {
   "cell_type": "markdown",
   "id": "923062a3-dcfe-4250-bd77-7afa6f26ed68",
   "metadata": {},
   "source": [
    "## 25. Question: Create a 4D array of shape (2, 3, 4, 5) with random integers. Use advanced slicing to extract a subarray and compute the mean along a specified axis."
   ]
  },
  {
   "cell_type": "code",
   "execution_count": 53,
   "id": "29990314-b9fb-4006-8a9b-7ab9a48497bc",
   "metadata": {},
   "outputs": [
    {
     "name": "stdout",
     "output_type": "stream",
     "text": [
      "Original array:\n",
      " [[[[42 44 11 80  4]\n",
      "   [87 95 14 63 67]\n",
      "   [ 9 25 58 43 42]\n",
      "   [50 16 33  7 11]]\n",
      "\n",
      "  [[11 37  8 97 63]\n",
      "   [32 96  8  9 46]\n",
      "   [11  8 34 88 41]\n",
      "   [79 55 90 98 33]]\n",
      "\n",
      "  [[30 47 15 84 84]\n",
      "   [76 71 29 84  8]\n",
      "   [59 89 60 62 72]\n",
      "   [84 46 43 73 83]]]\n",
      "\n",
      "\n",
      " [[[16 65 47  1 94]\n",
      "   [ 4 56 78 75 68]\n",
      "   [36 65 54 86 37]\n",
      "   [98 85 78  2  0]]\n",
      "\n",
      "  [[63 93 86 58 43]\n",
      "   [40 10 38  8 93]\n",
      "   [52 31 85 46 61]\n",
      "   [ 0 33 29 69 13]]\n",
      "\n",
      "  [[27 88 94 94 66]\n",
      "   [53 42 79 79 64]\n",
      "   [28 11  2 12 88]\n",
      "   [96  2 92 59 81]]]]\n",
      "\n",
      "Extracted Subarray:\n",
      " [[[ 9 25 58]\n",
      "  [50 16 33]]\n",
      "\n",
      " [[11  8 34]\n",
      "  [79 55 90]]\n",
      "\n",
      " [[59 89 60]\n",
      "  [84 46 43]]]\n",
      "\n",
      "Mean along axis:\n",
      " [[29.5 20.5 45.5]\n",
      " [45.  31.5 62. ]\n",
      " [71.5 67.5 51.5]]\n"
     ]
    }
   ],
   "source": [
    "array_4d = np.random.randint(0, 100, size=(2,3,4,5))\n",
    "print(\"Original array:\\n\", array_4d)\n",
    "\n",
    "subarray = array_4d[0, :, -2:, :3]\n",
    "print(\"\\nExtracted Subarray:\\n\", subarray)\n",
    "\n",
    "mean = np.mean(subarray, axis=1)\n",
    "print(\"\\nMean along axis:\\n\", mean)"
   ]
  },
  {
   "cell_type": "markdown",
   "id": "7852abe6-d903-4fd6-ad97-aa801e474e1b",
   "metadata": {},
   "source": [
    "## 26. Question: Given an array of shape (10, 20), reshape it to (20, 10) and (5, 40). Discuss the impact on the array's shape, size, and dimensionality."
   ]
  },
  {
   "cell_type": "code",
   "execution_count": 66,
   "id": "6eb3898a-c9cf-4023-aaa8-8d6cdb717e66",
   "metadata": {},
   "outputs": [
    {
     "name": "stdout",
     "output_type": "stream",
     "text": [
      "[[  0   1   2 ...  17  18  19]\n",
      " [ 20  21  22 ...  37  38  39]\n",
      " [ 40  41  42 ...  57  58  59]\n",
      " ...\n",
      " [140 141 142 ... 157 158 159]\n",
      " [160 161 162 ... 177 178 179]\n",
      " [180 181 182 ... 197 198 199]]\n",
      "\n",
      " [[  0   1   2 ...   7   8   9]\n",
      " [ 10  11  12 ...  17  18  19]\n",
      " [ 20  21  22 ...  27  28  29]\n",
      " ...\n",
      " [170 171 172 ... 177 178 179]\n",
      " [180 181 182 ... 187 188 189]\n",
      " [190 191 192 ... 197 198 199]]\n",
      "\n",
      "Reshaped Array (20, 10):\n",
      " [[  0   1   2 ...   7   8   9]\n",
      " [ 10  11  12 ...  17  18  19]\n",
      " [ 20  21  22 ...  27  28  29]\n",
      " ...\n",
      " [170 171 172 ... 177 178 179]\n",
      " [180 181 182 ... 187 188 189]\n",
      " [190 191 192 ... 197 198 199]]\n",
      "Shape: (20, 10)\n",
      "Size: 200\n",
      "Dimensionality: 2\n",
      "\n",
      " [[  0   1   2 ...  37  38  39]\n",
      " [ 40  41  42 ...  77  78  79]\n",
      " [ 80  81  82 ... 117 118 119]\n",
      " [120 121 122 ... 157 158 159]\n",
      " [160 161 162 ... 197 198 199]]\n",
      "\n",
      "Reshaped Array (5, 40):\n",
      " [[  0   1   2 ...  37  38  39]\n",
      " [ 40  41  42 ...  77  78  79]\n",
      " [ 80  81  82 ... 117 118 119]\n",
      " [120 121 122 ... 157 158 159]\n",
      " [160 161 162 ... 197 198 199]]\n",
      "Shape: (5, 40)\n",
      "Size: 200\n",
      "Dimensionality: 2\n"
     ]
    }
   ],
   "source": [
    "array = np.arange(200).reshape(10, 20)\n",
    "print(array)\n",
    "\n",
    "reshape1 = array.reshape(20, 10)\n",
    "print(\"\\n\",reshape1)\n",
    "print(\"\\nReshaped Array (20, 10):\\n\", reshape1)\n",
    "print(\"Shape:\", reshape1.shape)\n",
    "print(\"Size:\", reshape1.size)\n",
    "print(\"Dimensionality:\", reshape1.ndim)\n",
    "\n",
    "reshape2 = array.reshape(5,40)\n",
    "print(\"\\n\",reshape2)\n",
    "print(\"\\nReshaped Array (5, 40):\\n\", reshape2)\n",
    "print(\"Shape:\", reshape2.shape)\n",
    "print(\"Size:\", reshape2.size)\n",
    "print(\"Dimensionality:\", reshape2.ndim)"
   ]
  },
  {
   "cell_type": "markdown",
   "id": "3200c67d-9349-409d-93ae-4e2c40ec9ea8",
   "metadata": {},
   "source": [
    "* Reshaping an array changes its shape but not its size or dimensionality.\n",
    "* The total number of elements must remain the same during reshaping.\n",
    "* The ability to reshape arrays flexibly is one of the powerful features of NumPy, allowing for different views and manipulations of the same data."
   ]
  },
  {
   "cell_type": "markdown",
   "id": "a55cdeaa-2ada-4134-9572-f6361f6db942",
   "metadata": {},
   "source": [
    "## 27. Question: Generate a large 2D array and demonstrate the use of np. reshape () and unravel () to manipulate its shape for various linear algebra operations."
   ]
  },
  {
   "cell_type": "code",
   "execution_count": 68,
   "id": "df6a1a52-f2c8-4c5e-a9f0-ccc124c37866",
   "metadata": {},
   "outputs": [
    {
     "name": "stdout",
     "output_type": "stream",
     "text": [
      "Original 2D Array Shape: (1000, 1000)\n",
      "Reshaped Array (2000, 500): (2000, 500)\n",
      "Reshaped Array (10, 100, 1000): (10, 100, 1000)\n",
      "Flattened Array Shape: (1000000,)\n",
      "Restored Array Shape: (1000, 1000)\n",
      "Result Matrix Shape: (1000, 1000)\n",
      "Mean of the Flattened Array: 499999.5\n"
     ]
    }
   ],
   "source": [
    "rows, cols = 1000, 1000\n",
    "large_array = np.arange(rows * cols).reshape(rows, cols)\n",
    "\n",
    "print(\"Original 2D Array Shape:\", large_array.shape)\n",
    "\n",
    "reshaped_array_1 = large_array.reshape((2000, 500))\n",
    "reshaped_array_2 = large_array.reshape((10, 100, 1000))\n",
    "\n",
    "print(\"Reshaped Array (2000, 500):\", reshaped_array_1.shape)\n",
    "print(\"Reshaped Array (10, 100, 1000):\", reshaped_array_2.shape)\n",
    "\n",
    "flattened_array = large_array.ravel()\n",
    "print(\"Flattened Array Shape:\", flattened_array.shape)\n",
    "\n",
    "restored_array = flattened_array.reshape(rows, cols)\n",
    "print(\"Restored Array Shape:\", restored_array.shape)\n",
    "\n",
    "matrix_1 = np.random.rand(500, 1000)\n",
    "matrix_2 = np.random.rand(1000, 500)\n",
    "\n",
    "reshaped_matrix_1 = matrix_1.reshape(1000, 500)\n",
    "reshaped_matrix_2 = matrix_2.reshape(500, 1000)\n",
    "\n",
    "result_matrix = np.dot(reshaped_matrix_1, reshaped_matrix_2)\n",
    "\n",
    "print(\"Result Matrix Shape:\", result_matrix.shape)\n",
    "\n",
    "mean_value = np.mean(flattened_array)\n",
    "print(\"Mean of the Flattened Array:\", mean_value)"
   ]
  },
  {
   "cell_type": "markdown",
   "id": "624e34ef-7637-4deb-a330-6c854efee625",
   "metadata": {},
   "source": [
    "## 28. Question: Given a 6x6 matrix, use advanced indexing and slicing to extract the upper triangular part of the matrix and set the lower triangular part to zero. Verify the result."
   ]
  },
  {
   "cell_type": "code",
   "execution_count": 69,
   "id": "c4a94f95-b247-4124-9ca0-ddbc743083f1",
   "metadata": {},
   "outputs": [
    {
     "name": "stdout",
     "output_type": "stream",
     "text": [
      "Original Matrix:\n",
      " [[4 3 6 3 8 5]\n",
      " [8 5 2 3 8 4]\n",
      " [7 8 2 5 6 7]\n",
      " [7 1 2 5 5 3]\n",
      " [5 8 7 7 4 5]\n",
      " [7 8 8 9 4 5]]\n",
      "\n",
      "Upper Triangular Part:\n",
      " [[4 3 6 3 8 5]\n",
      " [0 5 2 3 8 4]\n",
      " [0 0 2 5 6 7]\n",
      " [0 0 0 5 5 3]\n",
      " [0 0 0 0 4 5]\n",
      " [0 0 0 0 0 5]]\n",
      "\n",
      "Matrix after setting lower triangular part to zero:\n",
      " [[4 3 6 3 8 5]\n",
      " [0 5 2 3 8 4]\n",
      " [0 0 2 5 6 7]\n",
      " [0 0 0 5 5 3]\n",
      " [0 0 0 0 4 5]\n",
      " [0 0 0 0 0 5]]\n",
      "\n",
      "Verification (should be upper triangular):\n",
      "[[4 3 6 3 8 5]\n",
      " [0 5 2 3 8 4]\n",
      " [0 0 2 5 6 7]\n",
      " [0 0 0 5 5 3]\n",
      " [0 0 0 0 4 5]\n",
      " [0 0 0 0 0 5]]\n"
     ]
    }
   ],
   "source": [
    "import numpy as np\n",
    "\n",
    "# Step 1: Create a 6x6 matrix\n",
    "matrix = np.random.randint(1, 10, size=(6, 6))  # Generating a 6x6 matrix with random integers\n",
    "print(\"Original Matrix:\\n\", matrix)\n",
    "\n",
    "# Step 2: Extract the upper triangular part\n",
    "upper_triangular = np.triu(matrix)  # This keeps the upper triangular part and sets the lower part to zero\n",
    "print(\"\\nUpper Triangular Part:\\n\", upper_triangular)\n",
    "\n",
    "# Step 3: Set the lower triangular part to zero\n",
    "matrix[np.tril_indices(6, -1)] = 0  # Set lower triangular indices to zero\n",
    "print(\"\\nMatrix after setting lower triangular part to zero:\\n\", matrix)\n",
    "\n",
    "# Step 4: Verify the result\n",
    "print(\"\\nVerification (should be upper triangular):\")\n",
    "print(matrix)"
   ]
  },
  {
   "cell_type": "code",
   "execution_count": 71,
   "id": "ba058239-3b1d-4171-bf21-780de3600591",
   "metadata": {},
   "outputs": [
    {
     "name": "stdout",
     "output_type": "stream",
     "text": [
      "Original 6x6 Matrix:\n",
      " [[ 1  2  3  4  5  6]\n",
      " [ 7  8  9 10 11 12]\n",
      " [13 14 15 16 17 18]\n",
      " [19 20 21 22 23 24]\n",
      " [25 26 27 28 29 30]\n",
      " [31 32 33 34 35 36]]\n",
      "Upper Triangular Part:\n",
      " [[ 1  2  3  4  5  6]\n",
      " [ 0  8  9 10 11 12]\n",
      " [ 0  0 15 16 17 18]\n",
      " [ 0  0  0 22 23 24]\n",
      " [ 0  0  0  0 29 30]\n",
      " [ 0  0  0  0  0 36]]\n",
      "Matrix with Lower Triangular Part Set to Zero:\n",
      " [[ 1  2  3  4  5  6]\n",
      " [ 0  8  9 10 11 12]\n",
      " [ 0  0 15 16 17 18]\n",
      " [ 0  0  0 22 23 24]\n",
      " [ 0  0  0  0 29 30]\n",
      " [ 0  0  0  0  0 36]]\n",
      "Manually Zeroed Lower Triangular Part Matrix:\n",
      " [[ 1  2  3  4  5  6]\n",
      " [ 0  8  9 10 11 12]\n",
      " [ 0  0 15 16 17 18]\n",
      " [ 0  0  0 22 23 24]\n",
      " [ 0  0  0  0 29 30]\n",
      " [ 0  0  0  0  0 36]]\n",
      "Verification (Are the matrices equal?): True\n"
     ]
    }
   ],
   "source": [
    "# Another Method\n",
    "matrix = np.arange(1, 37).reshape(6, 6)\n",
    "print(\"Original 6x6 Matrix:\\n\", matrix)\n",
    "\n",
    "upper_triangular = np.triu(matrix)\n",
    "print(\"Upper Triangular Part:\\n\", upper_triangular)\n",
    "\n",
    "lower_triangular_zeroed = np.triu(matrix)\n",
    "print(\"Matrix with Lower Triangular Part Set to Zero:\\n\", lower_triangular_zeroed)\n",
    "\n",
    "lower_triangular_zeroed_manual = matrix.copy()\n",
    "lower_triangular_zeroed_manual[np.tril_indices_from(lower_triangular_zeroed_manual, -1)] = 0\n",
    "print(\"Manually Zeroed Lower Triangular Part Matrix:\\n\", lower_triangular_zeroed_manual)\n",
    "\n",
    "print(\"Verification (Are the matrices equal?):\", np.array_equal(lower_triangular_zeroed, lower_triangular_zeroed_manual))"
   ]
  },
  {
   "cell_type": "code",
   "execution_count": null,
   "id": "fbfc148d-b998-489b-8f9d-6016f193a37e",
   "metadata": {},
   "outputs": [],
   "source": []
  }
 ],
 "metadata": {
  "kernelspec": {
   "display_name": "Python 3 (ipykernel)",
   "language": "python",
   "name": "python3"
  },
  "language_info": {
   "codemirror_mode": {
    "name": "ipython",
    "version": 3
   },
   "file_extension": ".py",
   "mimetype": "text/x-python",
   "name": "python",
   "nbconvert_exporter": "python",
   "pygments_lexer": "ipython3",
   "version": "3.12.4"
  }
 },
 "nbformat": 4,
 "nbformat_minor": 5
}
